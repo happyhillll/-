{
  "nbformat": 4,
  "nbformat_minor": 0,
  "metadata": {
    "colab": {
      "name": "word2vec튜토리얼.ipynb",
      "provenance": [],
      "authorship_tag": "ABX9TyOVsi6tDGHJl6B1yBqaqlv7",
      "include_colab_link": true
    },
    "kernelspec": {
      "name": "python3",
      "display_name": "Python 3"
    },
    "language_info": {
      "name": "python"
    }
  },
  "cells": [
    {
      "cell_type": "markdown",
      "metadata": {
        "id": "view-in-github",
        "colab_type": "text"
      },
      "source": [
        "<a href=\"https://colab.research.google.com/github/happyhillll/-/blob/main/word2vec%ED%8A%9C%ED%86%A0%EB%A6%AC%EC%96%BC.ipynb\" target=\"_parent\"><img src=\"https://colab.research.google.com/assets/colab-badge.svg\" alt=\"Open In Colab\"/></a>"
      ]
    },
    {
      "cell_type": "code",
      "metadata": {
        "id": "mL7KI4Fm0HBj"
      },
      "source": [
        "import re  # For preprocessing\n",
        "import pandas as pd  # For data handling\n",
        "from time import time  # To time our operations\n",
        "from collections import defaultdict  # For word frequency\n",
        "\n",
        "import spacy  # For preprocessing\n",
        "\n",
        "import logging  # Setting up the loggings to monitor gensim\n",
        "logging.basicConfig(format=\"%(levelname)s - %(asctime)s: %(message)s\", datefmt= '%H:%M:%S', level=logging.INFO)"
      ],
      "execution_count": null,
      "outputs": []
    },
    {
      "cell_type": "code",
      "metadata": {
        "colab": {
          "base_uri": "https://localhost:8080/"
        },
        "id": "RbLge7bl0PQu",
        "outputId": "c90527c2-927a-476d-f032-aa2406c4629d"
      },
      "source": [
        "df = pd.read_csv('/content/simpsons_dataset.csv')\n",
        "df.shape"
      ],
      "execution_count": null,
      "outputs": [
        {
          "output_type": "execute_result",
          "data": {
            "text/plain": [
              "(158314, 2)"
            ]
          },
          "metadata": {
            "tags": []
          },
          "execution_count": 22
        }
      ]
    },
    {
      "cell_type": "code",
      "metadata": {
        "colab": {
          "base_uri": "https://localhost:8080/",
          "height": 204
        },
        "id": "M6YNaRcP2KPP",
        "outputId": "c97bb492-ef42-4c39-8cd4-9e9cf484fe7f"
      },
      "source": [
        "df.head()"
      ],
      "execution_count": null,
      "outputs": [
        {
          "output_type": "execute_result",
          "data": {
            "text/html": [
              "<div>\n",
              "<style scoped>\n",
              "    .dataframe tbody tr th:only-of-type {\n",
              "        vertical-align: middle;\n",
              "    }\n",
              "\n",
              "    .dataframe tbody tr th {\n",
              "        vertical-align: top;\n",
              "    }\n",
              "\n",
              "    .dataframe thead th {\n",
              "        text-align: right;\n",
              "    }\n",
              "</style>\n",
              "<table border=\"1\" class=\"dataframe\">\n",
              "  <thead>\n",
              "    <tr style=\"text-align: right;\">\n",
              "      <th></th>\n",
              "      <th>raw_character_text</th>\n",
              "      <th>spoken_words</th>\n",
              "    </tr>\n",
              "  </thead>\n",
              "  <tbody>\n",
              "    <tr>\n",
              "      <th>0</th>\n",
              "      <td>Miss Hoover</td>\n",
              "      <td>No, actually, it was a little of both. Sometim...</td>\n",
              "    </tr>\n",
              "    <tr>\n",
              "      <th>1</th>\n",
              "      <td>Lisa Simpson</td>\n",
              "      <td>Where's Mr. Bergstrom?</td>\n",
              "    </tr>\n",
              "    <tr>\n",
              "      <th>2</th>\n",
              "      <td>Miss Hoover</td>\n",
              "      <td>I don't know. Although I'd sure like to talk t...</td>\n",
              "    </tr>\n",
              "    <tr>\n",
              "      <th>3</th>\n",
              "      <td>Lisa Simpson</td>\n",
              "      <td>That life is worth living.</td>\n",
              "    </tr>\n",
              "    <tr>\n",
              "      <th>4</th>\n",
              "      <td>Edna Krabappel-Flanders</td>\n",
              "      <td>The polls will be open from now until the end ...</td>\n",
              "    </tr>\n",
              "  </tbody>\n",
              "</table>\n",
              "</div>"
            ],
            "text/plain": [
              "        raw_character_text                                       spoken_words\n",
              "0              Miss Hoover  No, actually, it was a little of both. Sometim...\n",
              "1             Lisa Simpson                             Where's Mr. Bergstrom?\n",
              "2              Miss Hoover  I don't know. Although I'd sure like to talk t...\n",
              "3             Lisa Simpson                         That life is worth living.\n",
              "4  Edna Krabappel-Flanders  The polls will be open from now until the end ..."
            ]
          },
          "metadata": {
            "tags": []
          },
          "execution_count": 23
        }
      ]
    },
    {
      "cell_type": "code",
      "metadata": {
        "colab": {
          "base_uri": "https://localhost:8080/"
        },
        "id": "qAXfHYXF2MBv",
        "outputId": "dda4c20c-fc83-4e74-f79b-e496047137ea"
      },
      "source": [
        "df.isnull().sum()"
      ],
      "execution_count": null,
      "outputs": [
        {
          "output_type": "execute_result",
          "data": {
            "text/plain": [
              "raw_character_text    17814\n",
              "spoken_words          26459\n",
              "dtype: int64"
            ]
          },
          "metadata": {
            "tags": []
          },
          "execution_count": 24
        }
      ]
    },
    {
      "cell_type": "code",
      "metadata": {
        "colab": {
          "base_uri": "https://localhost:8080/"
        },
        "id": "z2ShqeaI2QGo",
        "outputId": "055761e9-e1a7-48db-e163-0f5192aa14a4"
      },
      "source": [
        "df = df.dropna().reset_index(drop=True)\n",
        "df.isnull().sum()"
      ],
      "execution_count": null,
      "outputs": [
        {
          "output_type": "execute_result",
          "data": {
            "text/plain": [
              "raw_character_text    0\n",
              "spoken_words          0\n",
              "dtype: int64"
            ]
          },
          "metadata": {
            "tags": []
          },
          "execution_count": 25
        }
      ]
    },
    {
      "cell_type": "code",
      "metadata": {
        "id": "HOvwkTRs2TQt"
      },
      "source": [
        "nlp = spacy.load('en', disable=['ner', 'parser']) # disabling Named Entity Recognition for speed\n",
        "\n",
        "def cleaning(doc):\n",
        "    # Lemmatizes and removes stopwords\n",
        "    # doc needs to be a spacy Doc object\n",
        "    txt = [token.lemma_ for token in doc if not token.is_stop]\n",
        "    # Word2Vec uses context words to learn the vector representation of a target word,\n",
        "    # if a sentence is only one or two words long,\n",
        "    # the benefit for the training is very small\n",
        "    if len(txt) > 2:\n",
        "        return ' '.join(txt)"
      ],
      "execution_count": null,
      "outputs": []
    },
    {
      "cell_type": "code",
      "metadata": {
        "id": "XY5KZOvP2jzL"
      },
      "source": [
        "brief_cleaning = (re.sub(\"[^A-Za-z']+\", ' ', str(row)).lower() for row in df['spoken_words'])"
      ],
      "execution_count": null,
      "outputs": []
    },
    {
      "cell_type": "code",
      "metadata": {
        "colab": {
          "base_uri": "https://localhost:8080/"
        },
        "id": "Uvk_hHvJ3bfG",
        "outputId": "c6c755d1-447f-4a3c-f2b8-93c3981e7e3f"
      },
      "source": [
        "t = time()\n",
        "\n",
        "txt = [cleaning(doc) for doc in nlp.pipe(brief_cleaning, batch_size=5000, n_threads=-1)]\n",
        "\n",
        "print('Time to clean up everything: {} mins'.format(round((time() - t) / 60, 2)))"
      ],
      "execution_count": null,
      "outputs": [
        {
          "output_type": "stream",
          "text": [
            "Time to clean up everything: 1.07 mins\n"
          ],
          "name": "stdout"
        }
      ]
    },
    {
      "cell_type": "code",
      "metadata": {
        "colab": {
          "base_uri": "https://localhost:8080/"
        },
        "id": "Od287_ao3eUW",
        "outputId": "217fa37f-4694-46d6-916b-417f7a5a6e83"
      },
      "source": [
        "df_clean = pd.DataFrame({'clean': txt})\n",
        "df_clean = df_clean.dropna().drop_duplicates()\n",
        "df_clean.shape"
      ],
      "execution_count": null,
      "outputs": [
        {
          "output_type": "execute_result",
          "data": {
            "text/plain": [
              "(85964, 1)"
            ]
          },
          "metadata": {
            "tags": []
          },
          "execution_count": 29
        }
      ]
    },
    {
      "cell_type": "code",
      "metadata": {
        "id": "PCTDCjQz3g8f"
      },
      "source": [
        "from gensim.models.phrases import Phrases, Phraser"
      ],
      "execution_count": null,
      "outputs": []
    },
    {
      "cell_type": "code",
      "metadata": {
        "id": "_2pnxdCx3p6c"
      },
      "source": [
        "sent = [row.split() for row in df_clean['clean']]"
      ],
      "execution_count": null,
      "outputs": []
    },
    {
      "cell_type": "code",
      "metadata": {
        "colab": {
          "base_uri": "https://localhost:8080/"
        },
        "id": "lbv18UiN3rrn",
        "outputId": "3587840f-5f88-4e33-c26e-3278dff9be57"
      },
      "source": [
        "phrases = Phrases(sent, min_count=30, progress_per=10000)"
      ],
      "execution_count": null,
      "outputs": [
        {
          "output_type": "stream",
          "text": [
            "INFO - 06:52:43: collecting all words and their counts\n",
            "INFO - 06:52:43: PROGRESS: at sentence #0, processed 0 words and 0 word types\n",
            "INFO - 06:52:43: PROGRESS: at sentence #10000, processed 63561 words and 52816 word types\n",
            "INFO - 06:52:44: PROGRESS: at sentence #20000, processed 130943 words and 99866 word types\n",
            "INFO - 06:52:44: PROGRESS: at sentence #30000, processed 192972 words and 138532 word types\n",
            "INFO - 06:52:44: PROGRESS: at sentence #40000, processed 249842 words and 172659 word types\n",
            "INFO - 06:52:44: PROGRESS: at sentence #50000, processed 311265 words and 208566 word types\n",
            "INFO - 06:52:44: PROGRESS: at sentence #60000, processed 373588 words and 243702 word types\n",
            "INFO - 06:52:44: PROGRESS: at sentence #70000, processed 436441 words and 278740 word types\n",
            "INFO - 06:52:44: PROGRESS: at sentence #80000, processed 497829 words and 311886 word types\n",
            "INFO - 06:52:44: collected 330804 word types from a corpus of 537160 words (unigram + bigrams) and 85964 sentences\n",
            "INFO - 06:52:44: using 330804 counts as vocab in Phrases<0 vocab, min_count=30, threshold=10.0, max_vocab_size=40000000>\n"
          ],
          "name": "stderr"
        }
      ]
    },
    {
      "cell_type": "code",
      "metadata": {
        "colab": {
          "base_uri": "https://localhost:8080/"
        },
        "id": "zcLDZFoH3te1",
        "outputId": "64e49c6c-b20c-40b5-d670-54935b5cec88"
      },
      "source": [
        "bigram = Phraser(phrases)"
      ],
      "execution_count": null,
      "outputs": [
        {
          "output_type": "stream",
          "text": [
            "INFO - 06:52:44: source_vocab length 330804\n",
            "INFO - 06:52:48: Phraser built with 126 phrasegrams\n"
          ],
          "name": "stderr"
        }
      ]
    },
    {
      "cell_type": "code",
      "metadata": {
        "id": "OHj3zObf3vbb"
      },
      "source": [
        "sentences = bigram[sent]"
      ],
      "execution_count": null,
      "outputs": []
    },
    {
      "cell_type": "code",
      "metadata": {
        "colab": {
          "base_uri": "https://localhost:8080/"
        },
        "id": "jILDepDJ3xPm",
        "outputId": "174b4e8a-0625-48bd-f29e-1b5443e8678a"
      },
      "source": [
        "word_freq = defaultdict(int)\n",
        "for sent in sentences:\n",
        "    for i in sent:\n",
        "        word_freq[i] += 1\n",
        "len(word_freq)"
      ],
      "execution_count": null,
      "outputs": [
        {
          "output_type": "execute_result",
          "data": {
            "text/plain": [
              "30178"
            ]
          },
          "metadata": {
            "tags": []
          },
          "execution_count": 35
        }
      ]
    },
    {
      "cell_type": "code",
      "metadata": {
        "colab": {
          "base_uri": "https://localhost:8080/"
        },
        "id": "pqHMcb2Q3zoq",
        "outputId": "ec2dadb9-9647-4b25-a9b7-cf8f34d2ab9b"
      },
      "source": [
        "sorted(word_freq, key=word_freq.get, reverse=True)[:10]"
      ],
      "execution_count": null,
      "outputs": [
        {
          "output_type": "execute_result",
          "data": {
            "text/plain": [
              "['oh', 'like', 'know', 'get', 'hey', 'think', 'right', 'look', 'want', 'come']"
            ]
          },
          "metadata": {
            "tags": []
          },
          "execution_count": 36
        }
      ]
    },
    {
      "cell_type": "code",
      "metadata": {
        "id": "gzan4-Fh31cf"
      },
      "source": [
        "import multiprocessing\n",
        "\n",
        "from gensim.models import Word2Vec"
      ],
      "execution_count": null,
      "outputs": []
    },
    {
      "cell_type": "code",
      "metadata": {
        "id": "S9-Tta4Z33mJ"
      },
      "source": [
        "cores = multiprocessing.cpu_count() # Count the number of cores in a computer"
      ],
      "execution_count": null,
      "outputs": []
    },
    {
      "cell_type": "code",
      "metadata": {
        "id": "3e6l3Dj336bH"
      },
      "source": [
        "w2v_model = Word2Vec(min_count=20,\n",
        "                     window=2,\n",
        "                     size=300,\n",
        "                     sample=6e-5, \n",
        "                     alpha=0.03, \n",
        "                     min_alpha=0.0007, \n",
        "                     negative=20,\n",
        "                     workers=cores-1)"
      ],
      "execution_count": null,
      "outputs": []
    },
    {
      "cell_type": "code",
      "metadata": {
        "colab": {
          "base_uri": "https://localhost:8080/"
        },
        "id": "sWRDVuC-38_n",
        "outputId": "a6cc1767-0a4f-45a9-a387-33501c1baf11"
      },
      "source": [
        "t = time()\n",
        "\n",
        "w2v_model.build_vocab(sentences, progress_per=10000)\n",
        "\n",
        "print('Time to build vocab: {} mins'.format(round((time() - t) / 60, 2)))"
      ],
      "execution_count": null,
      "outputs": [
        {
          "output_type": "stream",
          "text": [
            "INFO - 06:52:50: collecting all words and their counts\n",
            "INFO - 06:52:50: PROGRESS: at sentence #0, processed 0 words, keeping 0 word types\n",
            "INFO - 06:52:50: PROGRESS: at sentence #10000, processed 61718 words, keeping 9558 word types\n",
            "INFO - 06:52:50: PROGRESS: at sentence #20000, processed 127351 words, keeping 14506 word types\n",
            "INFO - 06:52:51: PROGRESS: at sentence #30000, processed 187829 words, keeping 17619 word types\n",
            "INFO - 06:52:51: PROGRESS: at sentence #40000, processed 243332 words, keeping 20385 word types\n",
            "INFO - 06:52:51: PROGRESS: at sentence #50000, processed 303182 words, keeping 22878 word types\n",
            "INFO - 06:52:51: PROGRESS: at sentence #60000, processed 363940 words, keeping 25200 word types\n",
            "INFO - 06:52:52: PROGRESS: at sentence #70000, processed 425408 words, keeping 27401 word types\n",
            "INFO - 06:52:52: PROGRESS: at sentence #80000, processed 485464 words, keeping 29275 word types\n",
            "INFO - 06:52:52: collected 30178 word types from a corpus of 523700 raw words and 85964 sentences\n",
            "INFO - 06:52:52: Loading a fresh vocabulary\n",
            "INFO - 06:52:52: effective_min_count=20 retains 3319 unique words (10% of original 30178, drops 26859)\n",
            "INFO - 06:52:52: effective_min_count=20 leaves 437324 word corpus (83% of original 523700, drops 86376)\n",
            "INFO - 06:52:52: deleting the raw counts dictionary of 30178 items\n",
            "INFO - 06:52:52: sample=6e-05 downsamples 1200 most-common words\n",
            "INFO - 06:52:52: downsampling leaves estimated 199161 word corpus (45.5% of prior 437324)\n",
            "INFO - 06:52:52: estimated required memory for 3319 words and 300 dimensions: 9625100 bytes\n",
            "INFO - 06:52:52: resetting layer weights\n"
          ],
          "name": "stderr"
        },
        {
          "output_type": "stream",
          "text": [
            "Time to build vocab: 0.05 mins\n"
          ],
          "name": "stdout"
        }
      ]
    },
    {
      "cell_type": "code",
      "metadata": {
        "colab": {
          "base_uri": "https://localhost:8080/"
        },
        "id": "xC1fFefb3_L0",
        "outputId": "2e5391a3-c07c-44f9-c5e2-73546e1c0f34"
      },
      "source": [
        "t = time()\n",
        "\n",
        "w2v_model.train(sentences, total_examples=w2v_model.corpus_count, epochs=30, report_delay=1)\n",
        "\n",
        "print('Time to train the model: {} mins'.format(round((time() - t) / 60, 2)))"
      ],
      "execution_count": null,
      "outputs": [
        {
          "output_type": "stream",
          "text": [
            "INFO - 06:52:53: training model with 1 workers on 3319 vocabulary and 300 features, using sg=0 hs=0 sample=6e-05 negative=20 window=2\n",
            "INFO - 06:52:54: EPOCH 1 - PROGRESS: at 33.37% examples, 64761 words/s, in_qsize 0, out_qsize 0\n",
            "INFO - 06:52:55: EPOCH 1 - PROGRESS: at 67.17% examples, 63336 words/s, in_qsize 1, out_qsize 0\n",
            "INFO - 06:52:56: worker thread finished; awaiting finish of 0 more threads\n",
            "INFO - 06:52:56: EPOCH - 1 : training on 523700 raw words (198820 effective words) took 3.0s, 65494 effective words/s\n",
            "INFO - 06:52:57: EPOCH 2 - PROGRESS: at 33.37% examples, 65645 words/s, in_qsize 1, out_qsize 0\n",
            "INFO - 06:52:58: EPOCH 2 - PROGRESS: at 70.95% examples, 67354 words/s, in_qsize 0, out_qsize 0\n",
            "INFO - 06:52:59: worker thread finished; awaiting finish of 0 more threads\n",
            "INFO - 06:52:59: EPOCH - 2 : training on 523700 raw words (199218 effective words) took 2.9s, 68192 effective words/s\n",
            "INFO - 06:53:00: EPOCH 3 - PROGRESS: at 33.37% examples, 66050 words/s, in_qsize 0, out_qsize 0\n",
            "INFO - 06:53:01: EPOCH 3 - PROGRESS: at 69.05% examples, 66237 words/s, in_qsize 0, out_qsize 0\n",
            "INFO - 06:53:02: worker thread finished; awaiting finish of 0 more threads\n",
            "INFO - 06:53:02: EPOCH - 3 : training on 523700 raw words (199222 effective words) took 2.9s, 68089 effective words/s\n",
            "INFO - 06:53:03: EPOCH 4 - PROGRESS: at 33.37% examples, 66534 words/s, in_qsize 1, out_qsize 0\n",
            "INFO - 06:53:04: EPOCH 4 - PROGRESS: at 67.17% examples, 64364 words/s, in_qsize 0, out_qsize 0\n",
            "INFO - 06:53:05: worker thread finished; awaiting finish of 0 more threads\n",
            "INFO - 06:53:05: EPOCH - 4 : training on 523700 raw words (199150 effective words) took 3.0s, 66414 effective words/s\n",
            "INFO - 06:53:06: EPOCH 5 - PROGRESS: at 33.37% examples, 66931 words/s, in_qsize 0, out_qsize 0\n",
            "INFO - 06:53:07: EPOCH 5 - PROGRESS: at 69.05% examples, 67205 words/s, in_qsize 1, out_qsize 0\n",
            "INFO - 06:53:08: worker thread finished; awaiting finish of 0 more threads\n",
            "INFO - 06:53:08: EPOCH - 5 : training on 523700 raw words (199540 effective words) took 2.9s, 68530 effective words/s\n",
            "INFO - 06:53:09: EPOCH 6 - PROGRESS: at 33.37% examples, 65503 words/s, in_qsize 1, out_qsize 0\n",
            "INFO - 06:53:10: EPOCH 6 - PROGRESS: at 69.05% examples, 66286 words/s, in_qsize 0, out_qsize 0\n",
            "INFO - 06:53:11: worker thread finished; awaiting finish of 0 more threads\n",
            "INFO - 06:53:11: EPOCH - 6 : training on 523700 raw words (199462 effective words) took 2.9s, 67689 effective words/s\n",
            "INFO - 06:53:12: EPOCH 7 - PROGRESS: at 29.42% examples, 58419 words/s, in_qsize 0, out_qsize 0\n",
            "INFO - 06:53:13: EPOCH 7 - PROGRESS: at 65.21% examples, 63002 words/s, in_qsize 1, out_qsize 0\n",
            "INFO - 06:53:14: EPOCH 7 - PROGRESS: at 99.32% examples, 64778 words/s, in_qsize 1, out_qsize 0\n",
            "INFO - 06:53:14: worker thread finished; awaiting finish of 0 more threads\n",
            "INFO - 06:53:14: EPOCH - 7 : training on 523700 raw words (199000 effective words) took 3.1s, 64873 effective words/s\n",
            "INFO - 06:53:15: EPOCH 8 - PROGRESS: at 29.42% examples, 60483 words/s, in_qsize 0, out_qsize 0\n",
            "INFO - 06:53:16: EPOCH 8 - PROGRESS: at 65.21% examples, 63836 words/s, in_qsize 0, out_qsize 0\n",
            "INFO - 06:53:17: EPOCH 8 - PROGRESS: at 99.32% examples, 64996 words/s, in_qsize 1, out_qsize 0\n",
            "INFO - 06:53:17: worker thread finished; awaiting finish of 0 more threads\n",
            "INFO - 06:53:17: EPOCH - 8 : training on 523700 raw words (199266 effective words) took 3.1s, 65177 effective words/s\n",
            "INFO - 06:53:18: EPOCH 9 - PROGRESS: at 33.37% examples, 65466 words/s, in_qsize 0, out_qsize 0\n",
            "INFO - 06:53:19: EPOCH 9 - PROGRESS: at 69.05% examples, 65128 words/s, in_qsize 0, out_qsize 0\n",
            "INFO - 06:53:20: worker thread finished; awaiting finish of 0 more threads\n",
            "INFO - 06:53:20: EPOCH - 9 : training on 523700 raw words (199201 effective words) took 3.0s, 66073 effective words/s\n",
            "INFO - 06:53:21: EPOCH 10 - PROGRESS: at 27.49% examples, 56086 words/s, in_qsize 0, out_qsize 0\n",
            "INFO - 06:53:22: EPOCH 10 - PROGRESS: at 63.30% examples, 61257 words/s, in_qsize 0, out_qsize 0\n",
            "INFO - 06:53:23: EPOCH 10 - PROGRESS: at 95.68% examples, 62449 words/s, in_qsize 0, out_qsize 0\n",
            "INFO - 06:53:23: worker thread finished; awaiting finish of 0 more threads\n",
            "INFO - 06:53:23: EPOCH - 10 : training on 523700 raw words (199075 effective words) took 3.2s, 63185 effective words/s\n",
            "INFO - 06:53:24: EPOCH 11 - PROGRESS: at 33.37% examples, 64873 words/s, in_qsize 0, out_qsize 0\n",
            "INFO - 06:53:25: EPOCH 11 - PROGRESS: at 69.05% examples, 65676 words/s, in_qsize 0, out_qsize 0\n",
            "INFO - 06:53:26: worker thread finished; awaiting finish of 0 more threads\n",
            "INFO - 06:53:26: EPOCH - 11 : training on 523700 raw words (199385 effective words) took 3.0s, 66651 effective words/s\n",
            "INFO - 06:53:27: EPOCH 12 - PROGRESS: at 33.37% examples, 65929 words/s, in_qsize 0, out_qsize 0\n",
            "INFO - 06:53:28: EPOCH 12 - PROGRESS: at 69.05% examples, 65627 words/s, in_qsize 0, out_qsize 0\n",
            "INFO - 06:53:29: worker thread finished; awaiting finish of 0 more threads\n",
            "INFO - 06:53:29: EPOCH - 12 : training on 523700 raw words (198819 effective words) took 3.0s, 67250 effective words/s\n",
            "INFO - 06:53:30: EPOCH 13 - PROGRESS: at 29.42% examples, 58739 words/s, in_qsize 1, out_qsize 0\n",
            "INFO - 06:53:31: EPOCH 13 - PROGRESS: at 65.21% examples, 62603 words/s, in_qsize 0, out_qsize 0\n",
            "INFO - 06:53:32: EPOCH 13 - PROGRESS: at 99.32% examples, 64161 words/s, in_qsize 1, out_qsize 0\n",
            "INFO - 06:53:32: worker thread finished; awaiting finish of 0 more threads\n",
            "INFO - 06:53:32: EPOCH - 13 : training on 523700 raw words (199107 effective words) took 3.1s, 64349 effective words/s\n",
            "INFO - 06:53:33: EPOCH 14 - PROGRESS: at 31.39% examples, 63573 words/s, in_qsize 0, out_qsize 0\n",
            "INFO - 06:53:34: EPOCH 14 - PROGRESS: at 67.17% examples, 65795 words/s, in_qsize 0, out_qsize 0\n",
            "INFO - 06:53:35: worker thread finished; awaiting finish of 0 more threads\n",
            "INFO - 06:53:35: EPOCH - 14 : training on 523700 raw words (199018 effective words) took 3.0s, 66607 effective words/s\n",
            "INFO - 06:53:36: EPOCH 15 - PROGRESS: at 31.39% examples, 63115 words/s, in_qsize 0, out_qsize 0\n",
            "INFO - 06:53:37: EPOCH 15 - PROGRESS: at 65.21% examples, 60862 words/s, in_qsize 0, out_qsize 0\n",
            "INFO - 06:53:38: EPOCH 15 - PROGRESS: at 97.45% examples, 61887 words/s, in_qsize 1, out_qsize 0\n",
            "INFO - 06:53:38: worker thread finished; awaiting finish of 0 more threads\n",
            "INFO - 06:53:38: EPOCH - 15 : training on 523700 raw words (199635 effective words) took 3.2s, 62453 effective words/s\n",
            "INFO - 06:53:39: EPOCH 16 - PROGRESS: at 31.39% examples, 63020 words/s, in_qsize 1, out_qsize 0\n",
            "INFO - 06:53:40: EPOCH 16 - PROGRESS: at 65.21% examples, 63822 words/s, in_qsize 0, out_qsize 0\n",
            "INFO - 06:53:41: EPOCH 16 - PROGRESS: at 97.45% examples, 63348 words/s, in_qsize 0, out_qsize 0\n",
            "INFO - 06:53:41: worker thread finished; awaiting finish of 0 more threads\n",
            "INFO - 06:53:41: EPOCH - 16 : training on 523700 raw words (199205 effective words) took 3.1s, 63735 effective words/s\n",
            "INFO - 06:53:42: EPOCH 17 - PROGRESS: at 31.39% examples, 61083 words/s, in_qsize 0, out_qsize 0\n",
            "INFO - 06:53:43: EPOCH 17 - PROGRESS: at 67.17% examples, 63660 words/s, in_qsize 0, out_qsize 0\n",
            "INFO - 06:53:44: worker thread finished; awaiting finish of 0 more threads\n",
            "INFO - 06:53:44: EPOCH - 17 : training on 523700 raw words (199196 effective words) took 3.1s, 64992 effective words/s\n",
            "INFO - 06:53:45: EPOCH 18 - PROGRESS: at 31.39% examples, 63642 words/s, in_qsize 0, out_qsize 0\n",
            "INFO - 06:53:47: EPOCH 18 - PROGRESS: at 65.21% examples, 61768 words/s, in_qsize 1, out_qsize 0\n",
            "INFO - 06:53:48: EPOCH 18 - PROGRESS: at 99.32% examples, 63477 words/s, in_qsize 1, out_qsize 0\n",
            "INFO - 06:53:48: worker thread finished; awaiting finish of 0 more threads\n",
            "INFO - 06:53:48: EPOCH - 18 : training on 523700 raw words (199097 effective words) took 3.1s, 63634 effective words/s\n",
            "INFO - 06:53:49: EPOCH 19 - PROGRESS: at 31.39% examples, 63123 words/s, in_qsize 1, out_qsize 0\n",
            "INFO - 06:53:50: EPOCH 19 - PROGRESS: at 67.17% examples, 64993 words/s, in_qsize 0, out_qsize 0\n",
            "INFO - 06:53:51: worker thread finished; awaiting finish of 0 more threads\n",
            "INFO - 06:53:51: EPOCH - 19 : training on 523700 raw words (199697 effective words) took 3.0s, 65523 effective words/s\n",
            "INFO - 06:53:52: EPOCH 20 - PROGRESS: at 31.39% examples, 62179 words/s, in_qsize 0, out_qsize 0\n",
            "INFO - 06:53:53: EPOCH 20 - PROGRESS: at 65.21% examples, 63305 words/s, in_qsize 1, out_qsize 0\n",
            "INFO - 06:53:54: EPOCH 20 - PROGRESS: at 97.45% examples, 63592 words/s, in_qsize 1, out_qsize 0\n",
            "INFO - 06:53:54: worker thread finished; awaiting finish of 0 more threads\n",
            "INFO - 06:53:54: EPOCH - 20 : training on 523700 raw words (199491 effective words) took 3.1s, 63977 effective words/s\n",
            "INFO - 06:53:55: EPOCH 21 - PROGRESS: at 31.39% examples, 61660 words/s, in_qsize 1, out_qsize 0\n",
            "INFO - 06:53:56: EPOCH 21 - PROGRESS: at 63.30% examples, 59549 words/s, in_qsize 0, out_qsize 0\n",
            "INFO - 06:53:57: EPOCH 21 - PROGRESS: at 95.68% examples, 60707 words/s, in_qsize 1, out_qsize 0\n",
            "INFO - 06:53:57: worker thread finished; awaiting finish of 0 more threads\n",
            "INFO - 06:53:57: EPOCH - 21 : training on 523700 raw words (198582 effective words) took 3.2s, 61245 effective words/s\n",
            "INFO - 06:53:58: EPOCH 22 - PROGRESS: at 31.39% examples, 60962 words/s, in_qsize 0, out_qsize 0\n",
            "INFO - 06:53:59: EPOCH 22 - PROGRESS: at 65.21% examples, 62000 words/s, in_qsize 0, out_qsize 0\n",
            "INFO - 06:54:00: EPOCH 22 - PROGRESS: at 97.45% examples, 62961 words/s, in_qsize 0, out_qsize 0\n",
            "INFO - 06:54:00: worker thread finished; awaiting finish of 0 more threads\n",
            "INFO - 06:54:00: EPOCH - 22 : training on 523700 raw words (199255 effective words) took 3.1s, 63305 effective words/s\n",
            "INFO - 06:54:01: EPOCH 23 - PROGRESS: at 31.39% examples, 62330 words/s, in_qsize 0, out_qsize 0\n",
            "INFO - 06:54:02: EPOCH 23 - PROGRESS: at 65.21% examples, 62977 words/s, in_qsize 0, out_qsize 0\n",
            "INFO - 06:54:03: EPOCH 23 - PROGRESS: at 99.32% examples, 63983 words/s, in_qsize 1, out_qsize 0\n",
            "INFO - 06:54:03: worker thread finished; awaiting finish of 0 more threads\n",
            "INFO - 06:54:03: EPOCH - 23 : training on 523700 raw words (199012 effective words) took 3.1s, 64151 effective words/s\n",
            "INFO - 06:54:04: EPOCH 24 - PROGRESS: at 31.39% examples, 63370 words/s, in_qsize 0, out_qsize 0\n",
            "INFO - 06:54:05: EPOCH 24 - PROGRESS: at 63.30% examples, 60337 words/s, in_qsize 0, out_qsize 0\n",
            "INFO - 06:54:06: EPOCH 24 - PROGRESS: at 97.45% examples, 62317 words/s, in_qsize 0, out_qsize 0\n",
            "INFO - 06:54:06: worker thread finished; awaiting finish of 0 more threads\n",
            "INFO - 06:54:06: EPOCH - 24 : training on 523700 raw words (198827 effective words) took 3.2s, 62567 effective words/s\n",
            "INFO - 06:54:07: EPOCH 25 - PROGRESS: at 31.39% examples, 63057 words/s, in_qsize 0, out_qsize 0\n",
            "INFO - 06:54:09: EPOCH 25 - PROGRESS: at 63.30% examples, 61708 words/s, in_qsize 0, out_qsize 0\n",
            "INFO - 06:54:10: EPOCH 25 - PROGRESS: at 97.45% examples, 63161 words/s, in_qsize 0, out_qsize 0\n",
            "INFO - 06:54:10: worker thread finished; awaiting finish of 0 more threads\n",
            "INFO - 06:54:10: EPOCH - 25 : training on 523700 raw words (199315 effective words) took 3.1s, 63495 effective words/s\n",
            "INFO - 06:54:11: EPOCH 26 - PROGRESS: at 31.39% examples, 61962 words/s, in_qsize 1, out_qsize 0\n",
            "INFO - 06:54:12: EPOCH 26 - PROGRESS: at 65.21% examples, 62874 words/s, in_qsize 0, out_qsize 0\n",
            "INFO - 06:54:13: EPOCH 26 - PROGRESS: at 97.45% examples, 63117 words/s, in_qsize 1, out_qsize 0\n",
            "INFO - 06:54:13: worker thread finished; awaiting finish of 0 more threads\n",
            "INFO - 06:54:13: EPOCH - 26 : training on 523700 raw words (199170 effective words) took 3.1s, 63535 effective words/s\n",
            "INFO - 06:54:14: EPOCH 27 - PROGRESS: at 27.49% examples, 55948 words/s, in_qsize 1, out_qsize 0\n",
            "INFO - 06:54:15: EPOCH 27 - PROGRESS: at 61.40% examples, 58935 words/s, in_qsize 1, out_qsize 0\n",
            "INFO - 06:54:16: EPOCH 27 - PROGRESS: at 91.98% examples, 59396 words/s, in_qsize 0, out_qsize 0\n",
            "INFO - 06:54:16: worker thread finished; awaiting finish of 0 more threads\n",
            "INFO - 06:54:16: EPOCH - 27 : training on 523700 raw words (199503 effective words) took 3.3s, 59973 effective words/s\n",
            "INFO - 06:54:17: EPOCH 28 - PROGRESS: at 29.42% examples, 59222 words/s, in_qsize 1, out_qsize 0\n",
            "INFO - 06:54:18: EPOCH 28 - PROGRESS: at 63.30% examples, 60225 words/s, in_qsize 1, out_qsize 0\n",
            "INFO - 06:54:19: EPOCH 28 - PROGRESS: at 95.68% examples, 61683 words/s, in_qsize 0, out_qsize 0\n",
            "INFO - 06:54:19: worker thread finished; awaiting finish of 0 more threads\n",
            "INFO - 06:54:19: EPOCH - 28 : training on 523700 raw words (199304 effective words) took 3.2s, 62026 effective words/s\n",
            "INFO - 06:54:20: EPOCH 29 - PROGRESS: at 31.39% examples, 61617 words/s, in_qsize 1, out_qsize 0\n",
            "INFO - 06:54:21: EPOCH 29 - PROGRESS: at 67.17% examples, 63292 words/s, in_qsize 0, out_qsize 0\n",
            "INFO - 06:54:22: worker thread finished; awaiting finish of 0 more threads\n",
            "INFO - 06:54:22: EPOCH - 29 : training on 523700 raw words (199329 effective words) took 3.1s, 64778 effective words/s\n",
            "INFO - 06:54:23: EPOCH 30 - PROGRESS: at 27.49% examples, 56332 words/s, in_qsize 1, out_qsize 0\n",
            "INFO - 06:54:24: EPOCH 30 - PROGRESS: at 63.30% examples, 60851 words/s, in_qsize 0, out_qsize 0\n",
            "INFO - 06:54:26: EPOCH 30 - PROGRESS: at 97.45% examples, 62733 words/s, in_qsize 0, out_qsize 0\n",
            "INFO - 06:54:26: worker thread finished; awaiting finish of 0 more threads\n",
            "INFO - 06:54:26: EPOCH - 30 : training on 523700 raw words (198902 effective words) took 3.2s, 63133 effective words/s\n",
            "INFO - 06:54:26: training on a 15711000 raw words (5975803 effective words) took 92.8s, 64386 effective words/s\n"
          ],
          "name": "stderr"
        },
        {
          "output_type": "stream",
          "text": [
            "Time to train the model: 1.55 mins\n"
          ],
          "name": "stdout"
        }
      ]
    },
    {
      "cell_type": "code",
      "metadata": {
        "colab": {
          "base_uri": "https://localhost:8080/"
        },
        "id": "YWhQiQl44BhZ",
        "outputId": "41a9cc9f-6ad7-4f25-ccb7-d7a3f435529a"
      },
      "source": [
        "w2v_model.init_sims(replace=True)"
      ],
      "execution_count": null,
      "outputs": [
        {
          "output_type": "stream",
          "text": [
            "INFO - 06:54:26: precomputing L2-norms of word weight vectors\n"
          ],
          "name": "stderr"
        }
      ]
    },
    {
      "cell_type": "code",
      "metadata": {
        "colab": {
          "base_uri": "https://localhost:8080/"
        },
        "id": "dy9NwNFv4DKT",
        "outputId": "09653081-324a-4b38-f03b-aeaf67c27334"
      },
      "source": [
        "w2v_model.wv.most_similar(positive=[\"homer\"])"
      ],
      "execution_count": null,
      "outputs": [
        {
          "output_type": "execute_result",
          "data": {
            "text/plain": [
              "[('bongo', 0.781727135181427),\n",
              " ('marge', 0.762418806552887),\n",
              " ('wife', 0.7553746700286865),\n",
              " ('snuggle', 0.7483620047569275),\n",
              " ('rude', 0.7481139898300171),\n",
              " ('sorry', 0.746907114982605),\n",
              " ('gee', 0.7372888326644897),\n",
              " ('crummy', 0.7344343066215515),\n",
              " ('sweetheart', 0.7336989641189575),\n",
              " ('adopt', 0.7304152846336365)]"
            ]
          },
          "metadata": {
            "tags": []
          },
          "execution_count": 43
        }
      ]
    },
    {
      "cell_type": "code",
      "metadata": {
        "colab": {
          "base_uri": "https://localhost:8080/"
        },
        "id": "OEaZpTzp4F2a",
        "outputId": "261aa863-0e6c-4f9d-92b8-b59331b925d2"
      },
      "source": [
        "w2v_model.wv.most_similar(positive=[\"homer_simpson\"])"
      ],
      "execution_count": null,
      "outputs": [
        {
          "output_type": "execute_result",
          "data": {
            "text/plain": [
              "[('recent', 0.7716342806816101),\n",
              " ('congratulation', 0.7679205536842346),\n",
              " ('easily', 0.7631253004074097),\n",
              " ('council', 0.7604875564575195),\n",
              " ('waylon', 0.7458096146583557),\n",
              " ('committee', 0.7419329881668091),\n",
              " ('defeat', 0.7363244891166687),\n",
              " ('pleased', 0.7324295043945312),\n",
              " ('governor', 0.7311977744102478),\n",
              " ('robert', 0.7292210459709167)]"
            ]
          },
          "metadata": {
            "tags": []
          },
          "execution_count": 58
        }
      ]
    },
    {
      "cell_type": "code",
      "metadata": {
        "colab": {
          "base_uri": "https://localhost:8080/"
        },
        "id": "oxK0rfnm4H4G",
        "outputId": "c72c63d4-87cc-4e5c-8ebb-c206ccaea7c0"
      },
      "source": [
        "w2v_model.wv.most_similar(positive=[\"marge\"])"
      ],
      "execution_count": null,
      "outputs": [
        {
          "output_type": "execute_result",
          "data": {
            "text/plain": [
              "[('convince', 0.7938133478164673),\n",
              " ('attract', 0.762791097164154),\n",
              " ('homer', 0.762418806552887),\n",
              " ('darling', 0.7606180310249329),\n",
              " ('sorry', 0.7605972290039062),\n",
              " ('ralphie', 0.7547937631607056),\n",
              " ('sure', 0.754260778427124),\n",
              " ('becky', 0.75421142578125),\n",
              " ('grownup', 0.749367356300354),\n",
              " ('rude', 0.7458109855651855)]"
            ]
          },
          "metadata": {
            "tags": []
          },
          "execution_count": 45
        }
      ]
    },
    {
      "cell_type": "code",
      "metadata": {
        "colab": {
          "base_uri": "https://localhost:8080/"
        },
        "id": "Krlgfxih4JhD",
        "outputId": "0a22f649-4b69-4239-bf33-bcd12a36ba6a"
      },
      "source": [
        "w2v_model.wv.most_similar(positive=[\"bart\"])"
      ],
      "execution_count": null,
      "outputs": [
        {
          "output_type": "execute_result",
          "data": {
            "text/plain": [
              "[('lisa', 0.8451727628707886),\n",
              " ('homework', 0.8054009079933167),\n",
              " ('upset', 0.7898616194725037),\n",
              " ('substitute', 0.7840583920478821),\n",
              " ('mom', 0.7834343910217285),\n",
              " ('surprised', 0.7804243564605713),\n",
              " ('convince', 0.7728426456451416),\n",
              " ('hearing', 0.7654814720153809),\n",
              " ('strangle', 0.7634938955307007),\n",
              " ('mom_dad', 0.7573662400245667)]"
            ]
          },
          "metadata": {
            "tags": []
          },
          "execution_count": 46
        }
      ]
    },
    {
      "cell_type": "code",
      "metadata": {
        "colab": {
          "base_uri": "https://localhost:8080/"
        },
        "id": "s5NWV_E94LVN",
        "outputId": "40fe3641-73bf-4240-9a9e-e25d115ff1e2"
      },
      "source": [
        "w2v_model.wv.similarity(\"moe\", 'tavern')"
      ],
      "execution_count": null,
      "outputs": [
        {
          "output_type": "execute_result",
          "data": {
            "text/plain": [
              "0.8841515"
            ]
          },
          "metadata": {
            "tags": []
          },
          "execution_count": 47
        }
      ]
    },
    {
      "cell_type": "code",
      "metadata": {
        "colab": {
          "base_uri": "https://localhost:8080/"
        },
        "id": "QXJ6T5cl4Oe-",
        "outputId": "14051a16-6ab3-421c-ca94-f0df1d55c085"
      },
      "source": [
        "w2v_model.wv.similarity('maggie', 'baby')"
      ],
      "execution_count": null,
      "outputs": [
        {
          "output_type": "execute_result",
          "data": {
            "text/plain": [
              "0.72445583"
            ]
          },
          "metadata": {
            "tags": []
          },
          "execution_count": 48
        }
      ]
    },
    {
      "cell_type": "code",
      "metadata": {
        "colab": {
          "base_uri": "https://localhost:8080/"
        },
        "id": "7nIbsJM-4QUX",
        "outputId": "17147ad1-52b8-4c6a-bfe0-23d36288a07a"
      },
      "source": [
        "w2v_model.wv.similarity('bart', 'nelson')"
      ],
      "execution_count": null,
      "outputs": [
        {
          "output_type": "execute_result",
          "data": {
            "text/plain": [
              "0.6681058"
            ]
          },
          "metadata": {
            "tags": []
          },
          "execution_count": 49
        }
      ]
    },
    {
      "cell_type": "code",
      "metadata": {
        "colab": {
          "base_uri": "https://localhost:8080/",
          "height": 108
        },
        "id": "vMoo_MMC4R0Q",
        "outputId": "292ce156-e7d1-4705-8192-c2c842f64307"
      },
      "source": [
        "w2v_model.wv.doesnt_match(['jimbo', 'milhouse', 'kearney'])"
      ],
      "execution_count": null,
      "outputs": [
        {
          "output_type": "stream",
          "text": [
            "WARNING - 06:56:10: vectors for words {'kearney'} are not present in the model, ignoring these words\n",
            "/usr/local/lib/python3.7/dist-packages/gensim/models/keyedvectors.py:895: FutureWarning: arrays to stack must be passed as a \"sequence\" type such as list or tuple. Support for non-sequence iterables such as generators is deprecated as of NumPy 1.16 and will raise an error in the future.\n",
            "  vectors = vstack(self.word_vec(word, use_norm=True) for word in used_words).astype(REAL)\n"
          ],
          "name": "stderr"
        },
        {
          "output_type": "execute_result",
          "data": {
            "application/vnd.google.colaboratory.intrinsic+json": {
              "type": "string"
            },
            "text/plain": [
              "'milhouse'"
            ]
          },
          "metadata": {
            "tags": []
          },
          "execution_count": 59
        }
      ]
    },
    {
      "cell_type": "code",
      "metadata": {
        "colab": {
          "base_uri": "https://localhost:8080/",
          "height": 91
        },
        "id": "Pi-8mwfu4ULj",
        "outputId": "5a3f1766-cec9-4597-b35c-ed06a1d89e28"
      },
      "source": [
        "w2v_model.wv.doesnt_match([\"nelson\", \"bart\", \"milhouse\"])"
      ],
      "execution_count": null,
      "outputs": [
        {
          "output_type": "stream",
          "text": [
            "/usr/local/lib/python3.7/dist-packages/gensim/models/keyedvectors.py:895: FutureWarning: arrays to stack must be passed as a \"sequence\" type such as list or tuple. Support for non-sequence iterables such as generators is deprecated as of NumPy 1.16 and will raise an error in the future.\n",
            "  vectors = vstack(self.word_vec(word, use_norm=True) for word in used_words).astype(REAL)\n"
          ],
          "name": "stderr"
        },
        {
          "output_type": "execute_result",
          "data": {
            "application/vnd.google.colaboratory.intrinsic+json": {
              "type": "string"
            },
            "text/plain": [
              "'nelson'"
            ]
          },
          "metadata": {
            "tags": []
          },
          "execution_count": 51
        }
      ]
    },
    {
      "cell_type": "code",
      "metadata": {
        "colab": {
          "base_uri": "https://localhost:8080/",
          "height": 91
        },
        "id": "1AkQDIYx4V6s",
        "outputId": "5c5ea4a9-20e6-4a37-987d-51ee5b3f68fc"
      },
      "source": [
        "w2v_model.wv.doesnt_match(['homer', 'patty', 'selma'])"
      ],
      "execution_count": null,
      "outputs": [
        {
          "output_type": "stream",
          "text": [
            "/usr/local/lib/python3.7/dist-packages/gensim/models/keyedvectors.py:895: FutureWarning: arrays to stack must be passed as a \"sequence\" type such as list or tuple. Support for non-sequence iterables such as generators is deprecated as of NumPy 1.16 and will raise an error in the future.\n",
            "  vectors = vstack(self.word_vec(word, use_norm=True) for word in used_words).astype(REAL)\n"
          ],
          "name": "stderr"
        },
        {
          "output_type": "execute_result",
          "data": {
            "application/vnd.google.colaboratory.intrinsic+json": {
              "type": "string"
            },
            "text/plain": [
              "'homer'"
            ]
          },
          "metadata": {
            "tags": []
          },
          "execution_count": 52
        }
      ]
    },
    {
      "cell_type": "code",
      "metadata": {
        "colab": {
          "base_uri": "https://localhost:8080/"
        },
        "id": "O0T-7EDM4Xsw",
        "outputId": "c38f3c70-cf12-425b-cac2-fbc084bae4dc"
      },
      "source": [
        "w2v_model.wv.most_similar(positive=[\"woman\", \"homer\"], negative=[\"marge\"], topn=3)"
      ],
      "execution_count": null,
      "outputs": [
        {
          "output_type": "execute_result",
          "data": {
            "text/plain": [
              "[('admire', 0.6767112016677856),\n",
              " ('obvious', 0.6346961855888367),\n",
              " ('drunken', 0.6259676814079285)]"
            ]
          },
          "metadata": {
            "tags": []
          },
          "execution_count": 53
        }
      ]
    },
    {
      "cell_type": "code",
      "metadata": {
        "colab": {
          "base_uri": "https://localhost:8080/"
        },
        "id": "8WADRwth4Zpb",
        "outputId": "be62894d-b046-4de0-9229-9ae8342eef93"
      },
      "source": [
        "w2v_model.wv.most_similar(positive=[\"woman\", \"bart\"], negative=[\"man\"], topn=3)"
      ],
      "execution_count": null,
      "outputs": [
        {
          "output_type": "execute_result",
          "data": {
            "text/plain": [
              "[('upset', 0.754841685295105),\n",
              " ('lisa', 0.751539945602417),\n",
              " ('parent', 0.7325302362442017)]"
            ]
          },
          "metadata": {
            "tags": []
          },
          "execution_count": 54
        }
      ]
    },
    {
      "cell_type": "code",
      "metadata": {
        "id": "rydoiZwE4bVS"
      },
      "source": [
        "import numpy as np\n",
        "import matplotlib.pyplot as plt\n",
        "import seaborn as sns\n",
        "\n",
        "from sklearn.decomposition import PCA\n",
        "from sklearn.manifold import TSNE\n",
        "\n",
        "def tsnescatterplot(model, word, list_names):\n",
        "    \"\"\" Plot in seaborn the results from the t-SNE dimensionality reduction algorithm of the vectors of a query word,\n",
        "    its list of most similar words, and a list of words.\n",
        "    \"\"\"\n",
        "    arrays = np.empty((0, 300), dtype='f')\n",
        "    word_labels = [word]\n",
        "    color_list = ['red']\n",
        "\n",
        "    # adds the vector of the query word\n",
        "    arrays = np.append(arrays, model.wv.__getitem__([word]), axis=0)\n",
        "\n",
        "    # gets list of most similar words\n",
        "    close_words = model.wv.most_similar([word])\n",
        "\n",
        "    # adds the vector for each of the closest words to the array\n",
        "    for wrd_score in close_words:\n",
        "        wrd_vector = model.wv.__getitem__([wrd_score[0]])\n",
        "        word_labels.append(wrd_score[0])\n",
        "        color_list.append('blue')\n",
        "        arrays = np.append(arrays, wrd_vector, axis=0)\n",
        "\n",
        "    # adds the vector for each of the words from list_names to the array\n",
        "    for wrd in list_names:\n",
        "        wrd_vector = model.wv.__getitem__([wrd])\n",
        "        word_labels.append(wrd)\n",
        "        color_list.append('green')\n",
        "        arrays = np.append(arrays, wrd_vector, axis=0)\n",
        "\n",
        "    # Reduces the dimensionality from 300 to 50 dimensions with PCA\n",
        "    reduc = PCA(n_components=10).fit_transform(arrays)\n",
        "\n",
        "    # Finds t-SNE coordinates for 2 dimensions\n",
        "    np.set_printoptions(suppress=True)\n",
        "\n",
        "    Y = TSNE(n_components=2, random_state=0, perplexity=15).fit_transform(reduc)\n",
        "\n",
        "    # Sets everything up to plot\n",
        "    df = pd.DataFrame({'x': [x for x in Y[:, 0]],\n",
        "                       'y': [y for y in Y[:, 1]],\n",
        "                       'words': word_labels,\n",
        "                       'color': color_list})\n",
        "\n",
        "    fig, _ = plt.subplots()\n",
        "    fig.set_size_inches(9, 9)\n",
        "\n",
        "    # Basic plot\n",
        "    p1 = sns.regplot(data=df,\n",
        "                     x=\"x\",\n",
        "                     y=\"y\",\n",
        "                     fit_reg=False,\n",
        "                     marker=\"o\",\n",
        "                     scatter_kws={'s': 40,\n",
        "                                  'facecolors': df['color']\n",
        "                                  }\n",
        "                     )\n",
        "\n",
        "    # Adds annotations one by one with a loop\n",
        "    for line in range(0, df.shape[0]):\n",
        "        p1.text(df[\"x\"][line],\n",
        "                df['y'][line],\n",
        "                '  ' + df[\"words\"][line].title(),\n",
        "                horizontalalignment='left',\n",
        "                verticalalignment='bottom', size='medium',\n",
        "                color=df['color'][line],\n",
        "                weight='normal'\n",
        "                ).set_size(15)\n",
        "\n",
        "    plt.xlim(Y[:, 0].min() - 50, Y[:, 0].max() + 50)\n",
        "    plt.ylim(Y[:, 1].min() - 50, Y[:, 1].max() + 50)\n",
        "\n",
        "    plt.title('t-SNE visualization for {}'.format(word.title()))\n",
        "    plt.show()"
      ],
      "execution_count": null,
      "outputs": []
    },
    {
      "cell_type": "code",
      "metadata": {
        "colab": {
          "base_uri": "https://localhost:8080/",
          "height": 567
        },
        "id": "jJeNZv2_4juy",
        "outputId": "7375f73a-50c5-42d9-dc5a-97018dd23dea"
      },
      "source": [
        "tsnescatterplot(w2v_model, 'homer', ['dog', 'bird', 'ah', 'maude', 'bob', 'mel', 'apu', 'duff'])"
      ],
      "execution_count": null,
      "outputs": [
        {
          "output_type": "display_data",
          "data": {
            "image/png": "[encoded data removed]",
            "text/plain": [
              "<Figure size 648x648 with 1 Axes>"
            ]
          },
          "metadata": {
            "tags": []
          }
        }
      ]
    },
    {
      "cell_type": "code",
      "metadata": {
        "colab": {
          "base_uri": "https://localhost:8080/",
          "height": 358
        },
        "id": "ViubpSIL4muP",
        "outputId": "fbb0945c-35c3-46e8-8d2b-6c11ef9307b6"
      },
      "source": [
        "tsnescatterplot(w2v_model, 'maggie', [i[0] for i in w2v_model.wv.most_similar(negative=[\"maggie\"])])"
      ],
      "execution_count": null,
      "outputs": [
        {
          "output_type": "error",
          "ename": "ValueError",
          "evalue": "ignored",
          "traceback": [
            "\u001b[0;31m---------------------------------------------------------------------------\u001b[0m",
            "\u001b[0;31mValueError\u001b[0m                                Traceback (most recent call last)",
            "\u001b[0;32m<ipython-input-64-191c8b9a76e5>\u001b[0m in \u001b[0;36m<module>\u001b[0;34m()\u001b[0m\n\u001b[0;32m----> 1\u001b[0;31m \u001b[0mtsnescatterplot\u001b[0m\u001b[0;34m(\u001b[0m\u001b[0mw2v_model\u001b[0m\u001b[0;34m,\u001b[0m \u001b[0;34m'maggie'\u001b[0m\u001b[0;34m,\u001b[0m \u001b[0;34m[\u001b[0m\u001b[0mi\u001b[0m\u001b[0;34m[\u001b[0m\u001b[0;36m0\u001b[0m\u001b[0;34m]\u001b[0m \u001b[0;32mfor\u001b[0m \u001b[0mi\u001b[0m \u001b[0;32min\u001b[0m \u001b[0mw2v_model\u001b[0m\u001b[0;34m.\u001b[0m\u001b[0mwv\u001b[0m\u001b[0;34m.\u001b[0m\u001b[0mmost_similar\u001b[0m\u001b[0;34m(\u001b[0m\u001b[0mnegative\u001b[0m\u001b[0;34m=\u001b[0m\u001b[0;34m[\u001b[0m\u001b[0;34m\"maggie\"\u001b[0m\u001b[0;34m]\u001b[0m\u001b[0;34m)\u001b[0m\u001b[0;34m]\u001b[0m\u001b[0;34m)\u001b[0m\u001b[0;34m\u001b[0m\u001b[0;34m\u001b[0m\u001b[0m\n\u001b[0m",
            "\u001b[0;32m<ipython-input-56-a657630d5d0d>\u001b[0m in \u001b[0;36mtsnescatterplot\u001b[0;34m(model, word, list_names)\u001b[0m\n\u001b[1;32m     28\u001b[0m \u001b[0;34m\u001b[0m\u001b[0m\n\u001b[1;32m     29\u001b[0m     \u001b[0;31m# Reduces the dimensionality from 300 to 50 dimensions with PCA\u001b[0m\u001b[0;34m\u001b[0m\u001b[0;34m\u001b[0m\u001b[0;34m\u001b[0m\u001b[0m\n\u001b[0;32m---> 30\u001b[0;31m     \u001b[0mreduc\u001b[0m \u001b[0;34m=\u001b[0m \u001b[0mPCA\u001b[0m\u001b[0;34m(\u001b[0m\u001b[0mn_components\u001b[0m\u001b[0;34m=\u001b[0m\u001b[0;36m50\u001b[0m\u001b[0;34m)\u001b[0m\u001b[0;34m.\u001b[0m\u001b[0mfit_transform\u001b[0m\u001b[0;34m(\u001b[0m\u001b[0marrays\u001b[0m\u001b[0;34m)\u001b[0m\u001b[0;34m\u001b[0m\u001b[0;34m\u001b[0m\u001b[0m\n\u001b[0m\u001b[1;32m     31\u001b[0m \u001b[0;34m\u001b[0m\u001b[0m\n\u001b[1;32m     32\u001b[0m     \u001b[0;31m# Finds t-SNE coordinates for 2 dimensions\u001b[0m\u001b[0;34m\u001b[0m\u001b[0;34m\u001b[0m\u001b[0;34m\u001b[0m\u001b[0m\n",
            "\u001b[0;32m/usr/local/lib/python3.7/dist-packages/sklearn/decomposition/_pca.py\u001b[0m in \u001b[0;36mfit_transform\u001b[0;34m(self, X, y)\u001b[0m\n\u001b[1;32m    367\u001b[0m         \u001b[0mC\u001b[0m\u001b[0;34m-\u001b[0m\u001b[0mordered\u001b[0m \u001b[0marray\u001b[0m\u001b[0;34m,\u001b[0m \u001b[0muse\u001b[0m \u001b[0;34m'np.ascontiguousarray'\u001b[0m\u001b[0;34m.\u001b[0m\u001b[0;34m\u001b[0m\u001b[0;34m\u001b[0m\u001b[0m\n\u001b[1;32m    368\u001b[0m         \"\"\"\n\u001b[0;32m--> 369\u001b[0;31m         \u001b[0mU\u001b[0m\u001b[0;34m,\u001b[0m \u001b[0mS\u001b[0m\u001b[0;34m,\u001b[0m \u001b[0mV\u001b[0m \u001b[0;34m=\u001b[0m \u001b[0mself\u001b[0m\u001b[0;34m.\u001b[0m\u001b[0m_fit\u001b[0m\u001b[0;34m(\u001b[0m\u001b[0mX\u001b[0m\u001b[0;34m)\u001b[0m\u001b[0;34m\u001b[0m\u001b[0;34m\u001b[0m\u001b[0m\n\u001b[0m\u001b[1;32m    370\u001b[0m         \u001b[0mU\u001b[0m \u001b[0;34m=\u001b[0m \u001b[0mU\u001b[0m\u001b[0;34m[\u001b[0m\u001b[0;34m:\u001b[0m\u001b[0;34m,\u001b[0m \u001b[0;34m:\u001b[0m\u001b[0mself\u001b[0m\u001b[0;34m.\u001b[0m\u001b[0mn_components_\u001b[0m\u001b[0;34m]\u001b[0m\u001b[0;34m\u001b[0m\u001b[0;34m\u001b[0m\u001b[0m\n\u001b[1;32m    371\u001b[0m \u001b[0;34m\u001b[0m\u001b[0m\n",
            "\u001b[0;32m/usr/local/lib/python3.7/dist-packages/sklearn/decomposition/_pca.py\u001b[0m in \u001b[0;36m_fit\u001b[0;34m(self, X)\u001b[0m\n\u001b[1;32m    414\u001b[0m         \u001b[0;31m# Call different fits for either full or truncated SVD\u001b[0m\u001b[0;34m\u001b[0m\u001b[0;34m\u001b[0m\u001b[0;34m\u001b[0m\u001b[0m\n\u001b[1;32m    415\u001b[0m         \u001b[0;32mif\u001b[0m \u001b[0mself\u001b[0m\u001b[0;34m.\u001b[0m\u001b[0m_fit_svd_solver\u001b[0m \u001b[0;34m==\u001b[0m \u001b[0;34m'full'\u001b[0m\u001b[0;34m:\u001b[0m\u001b[0;34m\u001b[0m\u001b[0;34m\u001b[0m\u001b[0m\n\u001b[0;32m--> 416\u001b[0;31m             \u001b[0;32mreturn\u001b[0m \u001b[0mself\u001b[0m\u001b[0;34m.\u001b[0m\u001b[0m_fit_full\u001b[0m\u001b[0;34m(\u001b[0m\u001b[0mX\u001b[0m\u001b[0;34m,\u001b[0m \u001b[0mn_components\u001b[0m\u001b[0;34m)\u001b[0m\u001b[0;34m\u001b[0m\u001b[0;34m\u001b[0m\u001b[0m\n\u001b[0m\u001b[1;32m    417\u001b[0m         \u001b[0;32melif\u001b[0m \u001b[0mself\u001b[0m\u001b[0;34m.\u001b[0m\u001b[0m_fit_svd_solver\u001b[0m \u001b[0;32min\u001b[0m \u001b[0;34m[\u001b[0m\u001b[0;34m'arpack'\u001b[0m\u001b[0;34m,\u001b[0m \u001b[0;34m'randomized'\u001b[0m\u001b[0;34m]\u001b[0m\u001b[0;34m:\u001b[0m\u001b[0;34m\u001b[0m\u001b[0;34m\u001b[0m\u001b[0m\n\u001b[1;32m    418\u001b[0m             \u001b[0;32mreturn\u001b[0m \u001b[0mself\u001b[0m\u001b[0;34m.\u001b[0m\u001b[0m_fit_truncated\u001b[0m\u001b[0;34m(\u001b[0m\u001b[0mX\u001b[0m\u001b[0;34m,\u001b[0m \u001b[0mn_components\u001b[0m\u001b[0;34m,\u001b[0m \u001b[0mself\u001b[0m\u001b[0;34m.\u001b[0m\u001b[0m_fit_svd_solver\u001b[0m\u001b[0;34m)\u001b[0m\u001b[0;34m\u001b[0m\u001b[0;34m\u001b[0m\u001b[0m\n",
            "\u001b[0;32m/usr/local/lib/python3.7/dist-packages/sklearn/decomposition/_pca.py\u001b[0m in \u001b[0;36m_fit_full\u001b[0;34m(self, X, n_components)\u001b[0m\n\u001b[1;32m    433\u001b[0m                              \u001b[0;34m\"min(n_samples, n_features)=%r with \"\u001b[0m\u001b[0;34m\u001b[0m\u001b[0;34m\u001b[0m\u001b[0m\n\u001b[1;32m    434\u001b[0m                              \u001b[0;34m\"svd_solver='full'\"\u001b[0m\u001b[0;34m\u001b[0m\u001b[0;34m\u001b[0m\u001b[0m\n\u001b[0;32m--> 435\u001b[0;31m                              % (n_components, min(n_samples, n_features)))\n\u001b[0m\u001b[1;32m    436\u001b[0m         \u001b[0;32melif\u001b[0m \u001b[0mn_components\u001b[0m \u001b[0;34m>=\u001b[0m \u001b[0;36m1\u001b[0m\u001b[0;34m:\u001b[0m\u001b[0;34m\u001b[0m\u001b[0;34m\u001b[0m\u001b[0m\n\u001b[1;32m    437\u001b[0m             \u001b[0;32mif\u001b[0m \u001b[0;32mnot\u001b[0m \u001b[0misinstance\u001b[0m\u001b[0;34m(\u001b[0m\u001b[0mn_components\u001b[0m\u001b[0;34m,\u001b[0m \u001b[0mnumbers\u001b[0m\u001b[0;34m.\u001b[0m\u001b[0mIntegral\u001b[0m\u001b[0;34m)\u001b[0m\u001b[0;34m:\u001b[0m\u001b[0;34m\u001b[0m\u001b[0;34m\u001b[0m\u001b[0m\n",
            "\u001b[0;31mValueError\u001b[0m: n_components=50 must be between 0 and min(n_samples, n_features)=21 with svd_solver='full'"
          ]
        }
      ]
    },
    {
      "cell_type": "code",
      "metadata": {
        "colab": {
          "base_uri": "https://localhost:8080/",
          "height": 341
        },
        "id": "6yAJgir34peL",
        "outputId": "a34f0789-9094-4af1-cbd3-045258a4d79f"
      },
      "source": [
        "tsnescatterplot(w2v_model, \"mr_burn\", [t[0] for t in w2v_model.wv.most_similar(positive=[\"mr_burn\"], topn=20)][10:])"
      ],
      "execution_count": null,
      "outputs": [
        {
          "output_type": "error",
          "ename": "KeyError",
          "evalue": "ignored",
          "traceback": [
            "\u001b[0;31m---------------------------------------------------------------------------\u001b[0m",
            "\u001b[0;31mKeyError\u001b[0m                                  Traceback (most recent call last)",
            "\u001b[0;32m<ipython-input-65-370e48bb9730>\u001b[0m in \u001b[0;36m<module>\u001b[0;34m()\u001b[0m\n\u001b[0;32m----> 1\u001b[0;31m \u001b[0mtsnescatterplot\u001b[0m\u001b[0;34m(\u001b[0m\u001b[0mw2v_model\u001b[0m\u001b[0;34m,\u001b[0m \u001b[0;34m\"mr_burn\"\u001b[0m\u001b[0;34m,\u001b[0m \u001b[0;34m[\u001b[0m\u001b[0mt\u001b[0m\u001b[0;34m[\u001b[0m\u001b[0;36m0\u001b[0m\u001b[0;34m]\u001b[0m \u001b[0;32mfor\u001b[0m \u001b[0mt\u001b[0m \u001b[0;32min\u001b[0m \u001b[0mw2v_model\u001b[0m\u001b[0;34m.\u001b[0m\u001b[0mwv\u001b[0m\u001b[0;34m.\u001b[0m\u001b[0mmost_similar\u001b[0m\u001b[0;34m(\u001b[0m\u001b[0mpositive\u001b[0m\u001b[0;34m=\u001b[0m\u001b[0;34m[\u001b[0m\u001b[0;34m\"mr_burn\"\u001b[0m\u001b[0;34m]\u001b[0m\u001b[0;34m,\u001b[0m \u001b[0mtopn\u001b[0m\u001b[0;34m=\u001b[0m\u001b[0;36m20\u001b[0m\u001b[0;34m)\u001b[0m\u001b[0;34m]\u001b[0m\u001b[0;34m[\u001b[0m\u001b[0;36m10\u001b[0m\u001b[0;34m:\u001b[0m\u001b[0;34m]\u001b[0m\u001b[0;34m)\u001b[0m\u001b[0;34m\u001b[0m\u001b[0;34m\u001b[0m\u001b[0m\n\u001b[0m",
            "\u001b[0;32m/usr/local/lib/python3.7/dist-packages/gensim/models/keyedvectors.py\u001b[0m in \u001b[0;36mmost_similar\u001b[0;34m(self, positive, negative, topn, restrict_vocab, indexer)\u001b[0m\n\u001b[1;32m    529\u001b[0m                 \u001b[0mmean\u001b[0m\u001b[0;34m.\u001b[0m\u001b[0mappend\u001b[0m\u001b[0;34m(\u001b[0m\u001b[0mweight\u001b[0m \u001b[0;34m*\u001b[0m \u001b[0mword\u001b[0m\u001b[0;34m)\u001b[0m\u001b[0;34m\u001b[0m\u001b[0;34m\u001b[0m\u001b[0m\n\u001b[1;32m    530\u001b[0m             \u001b[0;32melse\u001b[0m\u001b[0;34m:\u001b[0m\u001b[0;34m\u001b[0m\u001b[0;34m\u001b[0m\u001b[0m\n\u001b[0;32m--> 531\u001b[0;31m                 \u001b[0mmean\u001b[0m\u001b[0;34m.\u001b[0m\u001b[0mappend\u001b[0m\u001b[0;34m(\u001b[0m\u001b[0mweight\u001b[0m \u001b[0;34m*\u001b[0m \u001b[0mself\u001b[0m\u001b[0;34m.\u001b[0m\u001b[0mword_vec\u001b[0m\u001b[0;34m(\u001b[0m\u001b[0mword\u001b[0m\u001b[0;34m,\u001b[0m \u001b[0muse_norm\u001b[0m\u001b[0;34m=\u001b[0m\u001b[0;32mTrue\u001b[0m\u001b[0;34m)\u001b[0m\u001b[0;34m)\u001b[0m\u001b[0;34m\u001b[0m\u001b[0;34m\u001b[0m\u001b[0m\n\u001b[0m\u001b[1;32m    532\u001b[0m                 \u001b[0;32mif\u001b[0m \u001b[0mword\u001b[0m \u001b[0;32min\u001b[0m \u001b[0mself\u001b[0m\u001b[0;34m.\u001b[0m\u001b[0mvocab\u001b[0m\u001b[0;34m:\u001b[0m\u001b[0;34m\u001b[0m\u001b[0;34m\u001b[0m\u001b[0m\n\u001b[1;32m    533\u001b[0m                     \u001b[0mall_words\u001b[0m\u001b[0;34m.\u001b[0m\u001b[0madd\u001b[0m\u001b[0;34m(\u001b[0m\u001b[0mself\u001b[0m\u001b[0;34m.\u001b[0m\u001b[0mvocab\u001b[0m\u001b[0;34m[\u001b[0m\u001b[0mword\u001b[0m\u001b[0;34m]\u001b[0m\u001b[0;34m.\u001b[0m\u001b[0mindex\u001b[0m\u001b[0;34m)\u001b[0m\u001b[0;34m\u001b[0m\u001b[0;34m\u001b[0m\u001b[0m\n",
            "\u001b[0;32m/usr/local/lib/python3.7/dist-packages/gensim/models/keyedvectors.py\u001b[0m in \u001b[0;36mword_vec\u001b[0;34m(self, word, use_norm)\u001b[0m\n\u001b[1;32m    450\u001b[0m             \u001b[0;32mreturn\u001b[0m \u001b[0mresult\u001b[0m\u001b[0;34m\u001b[0m\u001b[0;34m\u001b[0m\u001b[0m\n\u001b[1;32m    451\u001b[0m         \u001b[0;32melse\u001b[0m\u001b[0;34m:\u001b[0m\u001b[0;34m\u001b[0m\u001b[0;34m\u001b[0m\u001b[0m\n\u001b[0;32m--> 452\u001b[0;31m             \u001b[0;32mraise\u001b[0m \u001b[0mKeyError\u001b[0m\u001b[0;34m(\u001b[0m\u001b[0;34m\"word '%s' not in vocabulary\"\u001b[0m \u001b[0;34m%\u001b[0m \u001b[0mword\u001b[0m\u001b[0;34m)\u001b[0m\u001b[0;34m\u001b[0m\u001b[0;34m\u001b[0m\u001b[0m\n\u001b[0m\u001b[1;32m    453\u001b[0m \u001b[0;34m\u001b[0m\u001b[0m\n\u001b[1;32m    454\u001b[0m     \u001b[0;32mdef\u001b[0m \u001b[0mget_vector\u001b[0m\u001b[0;34m(\u001b[0m\u001b[0mself\u001b[0m\u001b[0;34m,\u001b[0m \u001b[0mword\u001b[0m\u001b[0;34m)\u001b[0m\u001b[0;34m:\u001b[0m\u001b[0;34m\u001b[0m\u001b[0;34m\u001b[0m\u001b[0m\n",
            "\u001b[0;31mKeyError\u001b[0m: \"word 'mr_burn' not in vocabulary\""
          ]
        }
      ]
    },
    {
      "cell_type": "code",
      "metadata": {
        "id": "gMVmZuk-4r3G"
      },
      "source": [
        ""
      ],
      "execution_count": null,
      "outputs": []
    }
  ]
}